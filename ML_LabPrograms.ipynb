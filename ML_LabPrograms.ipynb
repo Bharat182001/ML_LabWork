{
  "nbformat": 4,
  "nbformat_minor": 0,
  "metadata": {
    "colab": {
      "provenance": [],
      "include_colab_link": true
    },
    "kernelspec": {
      "name": "python3",
      "display_name": "Python 3"
    },
    "language_info": {
      "name": "python"
    }
  },
  "cells": [
    {
      "cell_type": "markdown",
      "metadata": {
        "id": "view-in-github",
        "colab_type": "text"
      },
      "source": [
        "<a href=\"https://colab.research.google.com/github/Bharat182001/ML_LabWork/blob/main/ML_LabPrograms.ipynb\" target=\"_parent\"><img src=\"https://colab.research.google.com/assets/colab-badge.svg\" alt=\"Open In Colab\"/></a>"
      ]
    },
    {
      "cell_type": "code",
      "source": [
        "import numpy as np\n",
        "import pandas as pd\n",
        "\n",
        "\n",
        "data = pd.DataFrame(data=pd.read_csv('/content/sample_data/candidateElim_dataset.csv'))\n",
        "\n",
        "concepts = np.array(data.iloc[:,0:-1])\n",
        "\n",
        "target = np.array(data.iloc[:,-1])\n",
        "\n",
        "print('Concepts: ')\n",
        "print(concepts)\n",
        "print('Target: ')\n",
        "print(target)\n",
        "print(\"\\n\")\n",
        "\n",
        "def candidateElimination(concepts, target):\n",
        "  specific_h = concepts[0].copy()\n",
        "  print(\"Initialization of specific_h and general_h\")\n",
        "  print('Specific_h: ')\n",
        "  print(specific_h)\n",
        "  general_h = [[\"?\" for i in range(len(specific_h))] for i in range(len(specific_h))]\n",
        "  print('General_h: ')\n",
        "  print(general_h)\n",
        "\n",
        "  for i, h in enumerate(concepts):\n",
        "    if target[i] == \"Yes\":\n",
        "      for x in range(len(specific_h)):\n",
        "        if h[x] != specific_h[x]:\n",
        "          specific_h[x] = '?'\n",
        "          general_h[x][x] = '?'\n",
        "        if target[i] == \"No\":\n",
        "          for x in range(len(specific_h)):\n",
        "            if h[x] != specific_h[x]:\n",
        "              general_h[x][x] = specific_h[x]\n",
        "            else:\n",
        "              general_h[x][x] = '?'\n",
        "  print(\"\\n\")\n",
        "  print(\"Steps of Candidate Elimination Algorithm\",i+1)\n",
        "  print(\"Specific_h ( Iteration -> \",i+1, ')')\n",
        "  print(specific_h)\n",
        "  print(\"general_h ( Iteration -> \", i+1, ')')\n",
        "  print(general_h)\n",
        "  indices = [i for i, val in enumerate(general_h) if val == ['?', '?', '?', '?', '?', '?']]\n",
        "  for i in indices:\n",
        "    general_h.remove(['?', '?', '?', '?', '?', '?'])\n",
        "  return specific_h, general_h\n",
        "s_final, g_final = candidateElimination(concepts, target)\n",
        "print(\"Final Specific_h:\", s_final, sep=\"\\n\")\n",
        "print(\"Final General_h:\", g_final, sep=\"\\n\")"
      ],
      "metadata": {
        "colab": {
          "base_uri": "https://localhost:8080/"
        },
        "id": "qPOlnyIfVvqr",
        "outputId": "786d5066-a33e-4b21-dc57-2f08362da1a4"
      },
      "execution_count": null,
      "outputs": [
        {
          "output_type": "stream",
          "name": "stdout",
          "text": [
            "Concepts: \n",
            "[['sunny' 'warm' 'normal' 'strong' 'warm' 'same']\n",
            " ['sunny' 'warm' 'high' 'strong' 'warm' 'same']\n",
            " ['rainy' 'cold' 'high' 'strong' 'warm' 'change']]\n",
            "Target: \n",
            "['yes' 'yes' 'no']\n",
            "\n",
            "\n",
            "Initialization of specific_h and general_h\n",
            "Specific_h: \n",
            "['sunny' 'warm' 'normal' 'strong' 'warm' 'same']\n",
            "General_h: \n",
            "[['?', '?', '?', '?', '?', '?'], ['?', '?', '?', '?', '?', '?'], ['?', '?', '?', '?', '?', '?'], ['?', '?', '?', '?', '?', '?'], ['?', '?', '?', '?', '?', '?'], ['?', '?', '?', '?', '?', '?']]\n",
            "\n",
            "\n",
            "Steps of Candidate Elimination Algorithm 3\n",
            "Specific_h ( Iteration ->  3 )\n",
            "['sunny' 'warm' 'normal' 'strong' 'warm' 'same']\n",
            "general_h ( Iteration ->  3 )\n",
            "[['?', '?', '?', '?', '?', '?'], ['?', '?', '?', '?', '?', '?'], ['?', '?', '?', '?', '?', '?'], ['?', '?', '?', '?', '?', '?'], ['?', '?', '?', '?', '?', '?'], ['?', '?', '?', '?', '?', '?']]\n",
            "Final Specific_h:\n",
            "['sunny' 'warm' 'normal' 'strong' 'warm' 'same']\n",
            "Final General_h:\n",
            "[]\n"
          ]
        }
      ]
    }
  ]
}